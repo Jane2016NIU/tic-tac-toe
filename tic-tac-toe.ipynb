{
 "cells": [
  {
   "cell_type": "markdown",
   "metadata": {},
   "source": [
    "# Tic-Tac-Toe Game Design and Code Implementation\n",
    "\n",
    "\n",
    "### Game Steps:\n",
    "1. Display the empty board\n",
    "1. Show game instruction\n",
    "1. Prompt 1st player to select a symbol to play\n",
    "1. Ask player select a number and check if the place is occupied or not\n",
    "1. If not, add symbol to previous board and show current symbol placement\n",
    "1. Check if the new move make the player win or not\n",
    "1. If player win prompt to ask if the player want to keep playing\n",
    "1. Repeat the above step or stop the game\n",
    "\n",
    "\n",
    "\n"
   ]
  },
  {
   "cell_type": "code",
   "execution_count": null,
   "metadata": {},
   "outputs": [],
   "source": [
    "def display_empty_board():\n",
    "    \"\"\"\n",
    "    To show the empty 3 X 3 board \n",
    "    \"\"\"\n",
    "    for row in range(1,12):\n",
    "        for col in range(1,12):\n",
    "            if col % 4 == 0 and (row % 4):\n",
    "                print('|', end = '')\n",
    "            elif row % 4 == 0:\n",
    "                print('-', end = '')\n",
    "            else:\n",
    "                print(' ', end = '')\n",
    "        print('') \n",
    "        \n",
    "display_empty_board()             "
   ]
  },
  {
   "cell_type": "code",
   "execution_count": 2,
   "metadata": {},
   "outputs": [
    {
     "name": "stdout",
     "output_type": "stream",
     "text": [
      "Hey, 1st player! Ready for the game? which shape would you choose to play? X or O, choose one!\n",
      "x\n",
      "You selected  X\n"
     ]
    },
    {
     "data": {
      "text/plain": [
       "'X'"
      ]
     },
     "execution_count": 2,
     "metadata": {},
     "output_type": "execute_result"
    }
   ],
   "source": [
    "def firstPlayerShape ():\n",
    "    \n",
    "    print('Hey, 1st player! Ready for the game? which shape would you choose to play? X or O, choose one!')\n",
    "    x = input()\n",
    "    print('You selected ', x[0].upper())\n",
    "    return x[0].upper()\n",
    "\n",
    "firstPlayerShape()"
   ]
  },
  {
   "cell_type": "code",
   "execution_count": 7,
   "metadata": {},
   "outputs": [
    {
     "name": "stdout",
     "output_type": "stream",
     "text": [
      "   |   |   \n",
      " 7 | 8 | 9 \n",
      "   |   |   \n",
      "-----------\n",
      "   |   |   \n",
      " 4 | 5 | 6 \n",
      "   |   |   \n",
      "-----------\n",
      "   |   |   \n",
      " 1 | 2 | 3 \n",
      "   |   |   \n"
     ]
    }
   ],
   "source": [
    "def displayNumberPosition():\n",
    "    \"\"\"\n",
    "    To show the relation between number and position. \n",
    "    Players in the game will input the numbers, which are corresponded to different positions on the board.\n",
    "    \"\"\"\n",
    "    lst = [7, 8, 9, 4, 5, 6, 1, 2, 3]\n",
    "    \n",
    "    for row in range(1,12):\n",
    "        for col in range(1,12):\n",
    "            if col % 4 == 0 and (row % 4):\n",
    "                print('|', end = '')\n",
    "            elif row % 4 == 0:\n",
    "                print('-', end = '')\n",
    "            elif col in [2, 6, 10] and row in [2, 6, 10]:\n",
    "                print(lst.pop(0), end = '')\n",
    "            else:\n",
    "                print(' ', end = '')\n",
    "        print('') \n",
    "        \n",
    "displayNumberPosition()"
   ]
  },
  {
   "cell_type": "code",
   "execution_count": 13,
   "metadata": {},
   "outputs": [
    {
     "name": "stdout",
     "output_type": "stream",
     "text": [
      "2\n",
      "2 is occupied! Select another number!\n",
      "1\n"
     ]
    },
    {
     "data": {
      "text/plain": [
       "['#', '#', '#', '#', '#', '#', 'O', 'X', '#', True]"
      ]
     },
     "execution_count": 13,
     "metadata": {},
     "output_type": "execute_result"
    }
   ],
   "source": [
    "\n",
    "def select_number(lst):\n",
    "    \"\"\"\n",
    "    This function receive a list with 9 symbol elements and one boolean element(to signal\n",
    "    the symbol shape of next move). The number selection vs position pair are saved in a\n",
    "    dictionary. Prompt player input a number to indicate a move and place a symbol on the \n",
    "    position. Then return a new symbol list with the new selected symbol on the position.\n",
    "    \n",
    "    lst has format like: ['#','#','#','#','#','#','#','#','#', bool].\n",
    "    The last element is a boolean value\n",
    "    \"\"\"\n",
    "    order = {1:6, 2:7, 3:8, 4:3, 5:4, 6:5, 7:0, 8:1, 9:2}\n",
    "    \n",
    "    repeat = True\n",
    "    \n",
    "    while repeat == True:\n",
    "        select = int(input())\n",
    "        if lst[order[select]] == '#':\n",
    "            repeat = False\n",
    "            break\n",
    "        print(f'{select} is occupied! Select another number!')\n",
    "    \n",
    "    if lst[9]:\n",
    "        symbol = 'X'\n",
    "    else:\n",
    "        symbol = 'O'\n",
    "        \n",
    "    lst[order[select]] = symbol\n",
    "    lst[-1] = not lst[-1]\n",
    "    \n",
    "    return lst\n",
    "    \n",
    "\n",
    "lst = ['#', '#', '#', '#', '#', '#', '#', 'X', '#', False]\n",
    "\n",
    "select_number(lst)\n",
    "    \n",
    "        "
   ]
  },
  {
   "cell_type": "code",
   "execution_count": 22,
   "metadata": {},
   "outputs": [
    {
     "name": "stdout",
     "output_type": "stream",
     "text": [
      "   |   |   \n",
      "   |   |   \n",
      "   |   |   \n",
      "-----------\n",
      "   |   |   \n",
      "   |   |   \n",
      "   |   |   \n",
      "-----------\n",
      "   |   |   \n",
      " O | X |   \n",
      "   |   |   \n"
     ]
    }
   ],
   "source": [
    "def display_board(lst):\n",
    "    lst1 = lst\n",
    "    for row in range(1,12):\n",
    "        for col in range(1,12):\n",
    "            if col % 4 == 0 and (row % 4):\n",
    "                print('|', end = '')\n",
    "            elif row % 4 == 0:\n",
    "                print('-', end = '')\n",
    "            elif col in [2, 6, 10] and row in [2, 6, 10]:\n",
    "                temp = lst1.pop(0)\n",
    "                if temp in ['O', 'X']:\n",
    "                    print(temp, end = '')\n",
    "                else:\n",
    "                    print(' ', end = '')\n",
    "            else:\n",
    "                print(' ', end = '')\n",
    "        print('')\n",
    "        \n",
    "lst = ['#', '#', '#', '#', '#', '#', 'O', 'X', '#', True]\n",
    "display_board(lst)"
   ]
  },
  {
   "cell_type": "code",
   "execution_count": null,
   "metadata": {},
   "outputs": [],
   "source": [
    "def check_win(lst):\n",
    "    \"\"\"\n",
    "     lst has format:  ['#', '#', '#', '#', '#', '#', '#', '#', '#', True]\n",
    "     Symbols has index numbers: [0,1,2,3,4,5,6,7,8]\n",
    "     The symbols relates to num position [7, 8, 9, 4, 5, 6, 1, 2, 3] in order\n",
    "    \"\"\"\n",
    "    # Any row has same symbols\n",
    "    if (lst[0] == lst[1] == lst[2] or lst[3] == lst[4] == lst[5] or lst[6] == lst[7] == lst[8]):\n",
    "        return True\n",
    "    # Any col has same symbols\n",
    "    elif (lst[0] == lst[3] == lst[6] or lst[1] == lst[4] == lst[7] or lst[2] == lst[5] == lst[8]):\n",
    "        return True\n",
    "    # Any diagonal has same symbols\n",
    "    elif (lst[6] == lst[4] == lst[2] or lst[0] == lst[4] == lst[8]):\n",
    "        return True\n",
    "    # otherwise return False\n",
    "    else:\n",
    "        return False"
   ]
  },
  {
   "cell_type": "code",
   "execution_count": 23,
   "metadata": {},
   "outputs": [],
   "source": [
    "from IPython.display import clear_output\n",
    "\n",
    "def welcome():\n",
    "    print('Welcome to Tic-Tac-Toe Game')\n",
    "    #display_board()\n",
    "    print('How to play?')\n",
    "    print('See the number position below')\n",
    "    displayNumberPosition()\n",
    "    print(\"First player select a symbol: either 'X' or 'O'\")\n",
    "    print('Two players alternate select number and program will show the current board')\n",
    "    print('If a player gets a row, or column or diagonal line with same symbols wins')\n",
    "    print('You could play as many times of game as you want. Exit by saying no after each game.')\n",
    "    print('Enjoy!')\n",
    "    player1 = firstPlayerShape()\n",
    "    \n",
    "    print('Press any key to start')\n",
    "    i = input()\n",
    "    clear_output()\n",
    "    return player1"
   ]
  },
  {
   "cell_type": "code",
   "execution_count": null,
   "metadata": {},
   "outputs": [],
   "source": []
  },
  {
   "cell_type": "code",
   "execution_count": 24,
   "metadata": {},
   "outputs": [],
   "source": [
    "\n",
    "\n",
    "def main():\n",
    "    \n",
    "    lst = ['#', '#', '#', '#', '#', '#', '#', '#', '#', False]\n",
    "    lst[9] = welcome()\n",
    "    \n",
    "    display_board(lst)\n",
    "    \n",
    "    repeat_select == True\n",
    "    repeat_game == True\n",
    "    win == False\n",
    "    \n",
    "    while repeat_game:\n",
    "        while repeat_select:\n",
    "            lst = select_number()\n",
    "            win = check_win(lst)\n",
    "            if win == True:\n",
    "                break\n",
    "        print('Congrats! Want to play again? (input Y/y to repeat game or N/n to exit)')\n",
    "        temp = input()\n",
    "        temp = temp.upper()\n",
    "        if temp == 'N':\n",
    "            break\n",
    "    \n",
    "    print('Good-bye!')"
   ]
  },
  {
   "cell_type": "code",
   "execution_count": 25,
   "metadata": {},
   "outputs": [
    {
     "name": "stdout",
     "output_type": "stream",
     "text": [
      "   |   |   \n",
      "   |   |   \n",
      "   |   |   \n",
      "-----------\n",
      "   |   |   \n",
      "   |   |   \n",
      "   |   |   \n",
      "-----------\n",
      "   |   |   \n",
      "   |   |   \n",
      "   |   |   \n"
     ]
    }
   ],
   "source": [
    "if __name__== \"__main__\":\n",
    "    main()"
   ]
  },
  {
   "cell_type": "code",
   "execution_count": null,
   "metadata": {},
   "outputs": [],
   "source": []
  }
 ],
 "metadata": {
  "kernelspec": {
   "display_name": "Python 3",
   "language": "python",
   "name": "python3"
  },
  "language_info": {
   "codemirror_mode": {
    "name": "ipython",
    "version": 3
   },
   "file_extension": ".py",
   "mimetype": "text/x-python",
   "name": "python",
   "nbconvert_exporter": "python",
   "pygments_lexer": "ipython3",
   "version": "3.6.6"
  }
 },
 "nbformat": 4,
 "nbformat_minor": 2
}
